{
 "cells": [
  {
   "cell_type": "markdown",
   "metadata": {},
   "source": [
    "# Classic Algorithms"
   ]
  },
  {
   "cell_type": "markdown",
   "metadata": {},
   "source": [
    "## Tasks Today:\n",
    "\n",
    "1) <b>Intro to Algorithms</b> <br>\n",
    " &nbsp;&nbsp;&nbsp;&nbsp; a) What are algorithms <br>\n",
    " &nbsp;&nbsp;&nbsp;&nbsp; b) Quick Intro to Big-O Notation <br>\n",
    "2) <b>In-Place Algorithms</b> <br>\n",
    " &nbsp;&nbsp;&nbsp;&nbsp; a) Syntax <br>\n",
    " &nbsp;&nbsp;&nbsp;&nbsp; a) Out of Place Algorithm <br>\n",
    " &nbsp;&nbsp;&nbsp;&nbsp; b) In-Class Exercise #1 <br>\n",
    "3) <b>Two Pointers</b> <br>\n",
    "4) <b>Sorting Algorithms</b> <br>\n",
    "5) <b>Merge Sort</b> <br>\n",
    " &nbsp;&nbsp;&nbsp;&nbsp; a) Video on Algorithms <br>\n",
    " &nbsp;&nbsp;&nbsp;&nbsp; b) How it Works <br>\n",
    "6) <b>Exercises</b> <br>\n",
    " &nbsp;&nbsp;&nbsp;&nbsp; a) Exercise #1 - Reverse a List in Place Using an In-Place Algorithm <br>\n",
    " &nbsp;&nbsp;&nbsp;&nbsp; b) Exercise #2 - Find Distinct Words <br>\n",
    " &nbsp;&nbsp;&nbsp;&nbsp; c) Exercise #3 - Write a program to implement a Linear Search Algorithm. <br>"
   ]
  },
  {
   "cell_type": "markdown",
   "metadata": {},
   "source": [
    "## Intro to Algorithms"
   ]
  },
  {
   "cell_type": "markdown",
   "metadata": {},
   "source": [
    "#### What is an algorithm"
   ]
  },
  {
   "cell_type": "markdown",
   "metadata": {},
   "source": [
    "- An algorithm is a set of instructions for solving a problem \n",
    "- Algorithms are used to solve all types of problems such as sorting data and searching for information\n",
    "- Being able to write efficient algorithms is an important part of being a computer programmer"
   ]
  },
  {
   "cell_type": "markdown",
   "metadata": {},
   "source": [
    "#### Quick Intro to Big O Notation"
   ]
  },
  {
   "cell_type": "markdown",
   "metadata": {},
   "source": [
    "Time and space complexity is the measure of how much time a given action(function) will take to solve a problem. In the same fashion, we determine how much a given data structure will need in terms of memory allocation. A problem can have multiple solutions and finding the optimal solution for the problem needs to be analyzed in time and space.\n",
    "<br>\n",
    "See more <a href=\"https://zippy-lan-200.notion.site/Intro-to-Time-Complexity-ae4a9c7dbefb4b9f9351ade7a2b2fa72\">here</a>"
   ]
  },
  {
   "cell_type": "code",
   "execution_count": 1,
   "metadata": {},
   "outputs": [
    {
     "name": "stdout",
     "output_type": "stream",
     "text": [
      "i=1, j=1\n",
      "i=1, j=2\n",
      "i=1, j=3\n",
      "i=1, j=4\n",
      "i=1, j=5\n",
      "i=2, j=1\n",
      "i=2, j=2\n",
      "i=2, j=3\n",
      "i=2, j=4\n",
      "i=2, j=5\n",
      "i=3, j=1\n",
      "i=3, j=2\n",
      "i=3, j=3\n",
      "i=3, j=4\n",
      "i=3, j=5\n",
      "i=4, j=1\n",
      "i=4, j=2\n",
      "i=4, j=3\n",
      "i=4, j=4\n",
      "i=4, j=5\n",
      "i=5, j=1\n",
      "i=5, j=2\n",
      "i=5, j=3\n",
      "i=5, j=4\n",
      "i=5, j=5\n"
     ]
    }
   ],
   "source": [
    "nums = [1, 2, 3, 4, 5]\n",
    "\n",
    "for i in nums:\n",
    "    for j in nums:\n",
    "        print(f'{i=}, {j=}')"
   ]
  },
  {
   "cell_type": "markdown",
   "metadata": {},
   "source": [
    "## In-Place Algorithms"
   ]
  },
  {
   "cell_type": "markdown",
   "metadata": {},
   "source": [
    "#### Syntax"
   ]
  },
  {
   "cell_type": "code",
   "execution_count": 2,
   "metadata": {},
   "outputs": [],
   "source": [
    "my_list = ['a', 'b', 'c', 'd', 'e', 'f']"
   ]
  },
  {
   "cell_type": "code",
   "execution_count": 3,
   "metadata": {},
   "outputs": [
    {
     "data": {
      "text/plain": [
       "['a', 'd', 'c', 'b', 'e', 'f']"
      ]
     },
     "execution_count": 3,
     "metadata": {},
     "output_type": "execute_result"
    }
   ],
   "source": [
    "# Write a function that will swap two elements in place (i.e. modify the original list)\n",
    "\n",
    "def swap(a_list, index1, index2):\n",
    "    temp = a_list[index1]\n",
    "    a_list[index1] = a_list[index2]\n",
    "    a_list[index2] = temp\n",
    "    return a_list\n",
    "\n",
    "swap(my_list, 1, 3)"
   ]
  },
  {
   "cell_type": "code",
   "execution_count": 4,
   "metadata": {},
   "outputs": [
    {
     "name": "stdout",
     "output_type": "stream",
     "text": [
      "['a', 'd', 'c', 'b', 'e', 'f']\n"
     ]
    }
   ],
   "source": [
    "print(my_list)"
   ]
  },
  {
   "cell_type": "code",
   "execution_count": 5,
   "metadata": {},
   "outputs": [
    {
     "name": "stdout",
     "output_type": "stream",
     "text": [
      "['dog', 'cat', 'bird', 'cow', 'horse']\n"
     ]
    }
   ],
   "source": [
    "# a_list[a], a_list[b] = a_list[b], a_list[a]\n",
    "def swap(a_list, index_a, index_b):\n",
    "    a_list[index_a], a_list[index_b] = a_list[index_b], a_list[index_a]\n",
    "#     return a_list\n",
    "    \n",
    "my_new_list = ['dog', 'cat', 'horse', 'cow', 'bird']\n",
    "swap(my_new_list, 2, 4)\n",
    "print(my_new_list)"
   ]
  },
  {
   "cell_type": "code",
   "execution_count": 6,
   "metadata": {},
   "outputs": [
    {
     "name": "stdout",
     "output_type": "stream",
     "text": [
      "Before: ['soccer', 'football', 'baseball', 'hockey', 'volleyball', 'basketball']\n",
      "After: ['basketball', 'football', 'baseball', 'hockey', 'volleyball', 'soccer']\n"
     ]
    }
   ],
   "source": [
    "sports = ['soccer', 'football', 'baseball', 'hockey', 'volleyball', 'basketball']\n",
    "\n",
    "print('Before:', sports)\n",
    "swap(sports, 0, 5)\n",
    "print('After:', sports)"
   ]
  },
  {
   "cell_type": "markdown",
   "metadata": {},
   "source": [
    "#### Out of Place Algorithm"
   ]
  },
  {
   "cell_type": "code",
   "execution_count": 7,
   "metadata": {
    "scrolled": true
   },
   "outputs": [],
   "source": [
    "def out_of_place_swap(a_list, index_a, index_b):\n",
    "    new_list = a_list[:] # Create a copy of a_list\n",
    "    new_list[index_a] = a_list[index_b]\n",
    "    new_list[index_b] = a_list[index_a]\n",
    "    return new_list"
   ]
  },
  {
   "cell_type": "code",
   "execution_count": 8,
   "metadata": {},
   "outputs": [
    {
     "name": "stdout",
     "output_type": "stream",
     "text": [
      "Before: ['Africa', 'Antarctica', 'Asia', 'Australia', 'Europe', 'North America', 'South America']\n",
      "After: ['Africa', 'Antarctica', 'Asia', 'Australia', 'Europe', 'North America', 'South America']\n",
      "New List: ['Africa', 'Antarctica', 'North America', 'Australia', 'Europe', 'Asia', 'South America']\n"
     ]
    }
   ],
   "source": [
    "continents = ['Africa', 'Antarctica', 'Asia', 'Australia', 'Europe', 'North America', 'South America']\n",
    "\n",
    "print('Before:', continents)\n",
    "swapped_continents = out_of_place_swap(continents, 2, 5)\n",
    "print('After:', continents)\n",
    "print('New List:', swapped_continents)"
   ]
  },
  {
   "cell_type": "code",
   "execution_count": 9,
   "metadata": {},
   "outputs": [
    {
     "name": "stdout",
     "output_type": "stream",
     "text": [
      "Before: ['Africa', 'Antarctica', 'Asia', 'Australia', 'Europe', 'North America', 'South America']\n",
      "After: ['Africa', 'Antarctica', 'North America', 'Australia', 'Europe', 'Asia', 'South America']\n"
     ]
    }
   ],
   "source": [
    "continents = ['Africa', 'Antarctica', 'Asia', 'Australia', 'Europe', 'North America', 'South America']\n",
    "\n",
    "print('Before:', continents)\n",
    "swap(continents, 2, 5)\n",
    "print('After:', continents)"
   ]
  },
  {
   "cell_type": "code",
   "execution_count": 10,
   "metadata": {
    "scrolled": true
   },
   "outputs": [
    {
     "name": "stdout",
     "output_type": "stream",
     "text": [
      "Before: [4, 1, 3, 9, 6, 2, 5, 8, 7]\n",
      "After: [1, 2, 3, 4, 5, 6, 7, 8, 9]\n",
      "Return Value: None\n"
     ]
    }
   ],
   "source": [
    "# .sort() method is in-place\n",
    "\n",
    "unsorted_list = [4, 1, 3, 9, 6, 2, 5, 8, 7]\n",
    "\n",
    "print('Before:', unsorted_list)\n",
    "sort_return = unsorted_list.sort()\n",
    "print('After:', unsorted_list)\n",
    "print('Return Value:', sort_return)"
   ]
  },
  {
   "cell_type": "code",
   "execution_count": 11,
   "metadata": {},
   "outputs": [
    {
     "name": "stdout",
     "output_type": "stream",
     "text": [
      "Before: [4, 1, 3, 9, 6, 2, 5, 8, 7]\n",
      "After: [4, 1, 3, 9, 6, 2, 5, 8, 7]\n",
      "Return Value: [1, 2, 3, 4, 5, 6, 7, 8, 9]\n"
     ]
    }
   ],
   "source": [
    "# sorted function is out-of-place\n",
    "\n",
    "unsorted_list = [4, 1, 3, 9, 6, 2, 5, 8, 7]\n",
    "\n",
    "print('Before:', unsorted_list)\n",
    "sorted_return = sorted(unsorted_list)\n",
    "print('After:', unsorted_list)\n",
    "print('Return Value:', sorted_return)"
   ]
  },
  {
   "cell_type": "markdown",
   "metadata": {},
   "source": [
    "#### In-Class Exercise #1 <br>\n",
    "<p>Write a function that takes in four arguments (a_list, index1, index2, index3), and swaps those three positions in the list passed in.</p>"
   ]
  },
  {
   "cell_type": "code",
   "execution_count": 12,
   "metadata": {},
   "outputs": [
    {
     "name": "stdout",
     "output_type": "stream",
     "text": [
      "['Indiana', 'Wisconsin', 'Illinois', 'Minnesota', 'Michigan', 'Missouri']\n"
     ]
    }
   ],
   "source": [
    "some_list = ['Illinois', 'Indiana', 'Wisconsin', 'Minnesota', 'Michigan', 'Missouri']\n",
    "#Possible Output: ['Illinois', 'Minnesota', 'Wisconsin', 'Michigan', 'Indiana', 'Missouri']\n",
    "\n",
    "def swap_three(lst, a, b, c):\n",
    "    lst[a], lst[b], lst[c] = lst[b], lst[c], lst[a]\n",
    "    \n",
    "swap_three(some_list, 0, 1, 2)\n",
    "print(some_list)"
   ]
  },
  {
   "cell_type": "markdown",
   "metadata": {},
   "source": [
    "## Two Pointers"
   ]
  },
  {
   "cell_type": "markdown",
   "metadata": {},
   "source": [
    "#### Syntax"
   ]
  },
  {
   "cell_type": "code",
   "execution_count": 13,
   "metadata": {},
   "outputs": [],
   "source": [
    "# Write a function that will reverse a list in place\n",
    "def reverse_list(a_list):\n",
    "    left = 0 # Start at the far left end of the list aka index-0\n",
    "    right = len(a_list) - 1 # Start at the far right end of the list\n",
    "    while left < right: # While the left pointer is to the left of the right pointer\n",
    "        a_list[left], a_list[right] = a_list[right], a_list[left] # Swap the values at the left and right pointers\n",
    "        left += 1 # Move the left pointer to the right by 1\n",
    "        right -= 1 # Move the right pointer to the left by 1\n",
    "    # Once the left if right of right, we can return the original list (now reversed)\n",
    "    return a_list        \n"
   ]
  },
  {
   "cell_type": "code",
   "execution_count": 14,
   "metadata": {},
   "outputs": [
    {
     "name": "stdout",
     "output_type": "stream",
     "text": [
      "['Indiana', 'Wisconsin', 'Illinois', 'Minnesota', 'Michigan', 'Missouri']\n"
     ]
    }
   ],
   "source": [
    "print(some_list)"
   ]
  },
  {
   "cell_type": "code",
   "execution_count": 15,
   "metadata": {},
   "outputs": [
    {
     "data": {
      "text/plain": [
       "['Missouri', 'Michigan', 'Minnesota', 'Illinois', 'Wisconsin', 'Indiana']"
      ]
     },
     "execution_count": 15,
     "metadata": {},
     "output_type": "execute_result"
    }
   ],
   "source": [
    "reverse_list(some_list)"
   ]
  },
  {
   "cell_type": "code",
   "execution_count": 16,
   "metadata": {},
   "outputs": [
    {
     "name": "stdout",
     "output_type": "stream",
     "text": [
      "['Missouri', 'Michigan', 'Minnesota', 'Illinois', 'Wisconsin', 'Indiana']\n"
     ]
    }
   ],
   "source": [
    "print(some_list)"
   ]
  },
  {
   "cell_type": "code",
   "execution_count": 17,
   "metadata": {},
   "outputs": [],
   "source": [
    "def reverse_out_of_place(a_list):\n",
    "    reversed_list = []\n",
    "    for idx in range(len(a_list)-1, -1, -1):\n",
    "        reversed_list.append(a_list[idx])\n",
    "    return reversed_list"
   ]
  },
  {
   "cell_type": "code",
   "execution_count": 18,
   "metadata": {},
   "outputs": [
    {
     "name": "stdout",
     "output_type": "stream",
     "text": [
      "['Canada', 'Brazil', 'France', 'Japan', 'China', 'Ireland']\n"
     ]
    }
   ],
   "source": [
    "countries = [\"Ireland\", \"China\", \"Japan\", \"France\", \"Brazil\", \"Canada\"]\n",
    "\n",
    "reverse_countries = reverse_out_of_place(countries)\n",
    "print(reverse_countries)"
   ]
  },
  {
   "cell_type": "code",
   "execution_count": 19,
   "metadata": {},
   "outputs": [
    {
     "name": "stdout",
     "output_type": "stream",
     "text": [
      "['Ireland', 'China', 'Japan', 'France', 'Brazil', 'Canada']\n"
     ]
    }
   ],
   "source": [
    "print(countries)"
   ]
  },
  {
   "cell_type": "code",
   "execution_count": 20,
   "metadata": {},
   "outputs": [
    {
     "name": "stdout",
     "output_type": "stream",
     "text": [
      "0 Ireland\n",
      "1 China\n",
      "2 Japan\n",
      "3 France\n",
      "4 Brazil\n",
      "5 Canada\n",
      "-------------------------\n",
      "5 Canada\n",
      "4 Brazil\n",
      "3 France\n",
      "2 Japan\n",
      "1 China\n",
      "0 Ireland\n"
     ]
    }
   ],
   "source": [
    "# print(countries)\n",
    "\n",
    "for i in range(len(countries)):\n",
    "    print(i, countries[i])\n",
    "\n",
    "print('-'*25)\n",
    "\n",
    "for i in range(len(countries)-1, -1, -1):\n",
    "    print(i, countries[i])"
   ]
  },
  {
   "cell_type": "markdown",
   "metadata": {},
   "source": [
    "# Sorting Algorithms"
   ]
  },
  {
   "cell_type": "code",
   "execution_count": 21,
   "metadata": {},
   "outputs": [
    {
     "name": "stdout",
     "output_type": "stream",
     "text": [
      "[7, 23, 2, 15, 32, 19, 11, 42, 5, 6]\n"
     ]
    }
   ],
   "source": [
    "from random import randint\n",
    "\n",
    "list_to_sort = [randint(1, 50) for _ in range(10)]\n",
    "print(list_to_sort)"
   ]
  },
  {
   "cell_type": "markdown",
   "metadata": {},
   "source": [
    "#### Bubble Sort\n",
    "\n",
    "Worst Case: O(n^2) Time - O(1) Space"
   ]
  },
  {
   "cell_type": "code",
   "execution_count": 22,
   "metadata": {},
   "outputs": [],
   "source": [
    "def bubble_sort(lst):\n",
    "    # When we first start, set up a variable (swapped) to true to begin the while loop\n",
    "    swapped = True\n",
    "    while swapped:\n",
    "        # Begin checking with the assumption (hope?) that we don't have to make any swaps (aka the list is already sorted)\n",
    "        swapped = False\n",
    "        # Start at the 0-index and loop through to the second to last item (because we check each item and the item to its right)\n",
    "        for idx in range(len(lst)-1):\n",
    "            # Check if the value at idx is great than the value to its right (idx+1)\n",
    "            if lst[idx] > lst[idx+1]:\n",
    "                # Swap those two values\n",
    "                lst[idx], lst[idx+1] = lst[idx+1], lst[idx]\n",
    "                # Since we have to swap, set the swapped variable to True\n",
    "                swapped = True\n",
    "    # Once we loop through without making a swap, our list is sorted and we can return\n",
    "    return lst  "
   ]
  },
  {
   "cell_type": "code",
   "execution_count": 23,
   "metadata": {},
   "outputs": [
    {
     "data": {
      "text/plain": [
       "[2, 5, 6, 7, 11, 15, 19, 23, 32, 42]"
      ]
     },
     "execution_count": 23,
     "metadata": {},
     "output_type": "execute_result"
    }
   ],
   "source": [
    "bubble_sort(list_to_sort)"
   ]
  },
  {
   "cell_type": "code",
   "execution_count": 24,
   "metadata": {},
   "outputs": [
    {
     "name": "stdout",
     "output_type": "stream",
     "text": [
      "[2, 5, 6, 7, 11, 15, 19, 23, 32, 42]\n"
     ]
    }
   ],
   "source": [
    "print(list_to_sort)"
   ]
  },
  {
   "cell_type": "code",
   "execution_count": 25,
   "metadata": {},
   "outputs": [
    {
     "name": "stdout",
     "output_type": "stream",
     "text": [
      "['Ireland', 'China', 'Japan', 'France', 'Brazil', 'Canada']\n",
      "['Brazil', 'Canada', 'China', 'France', 'Ireland', 'Japan']\n"
     ]
    }
   ],
   "source": [
    "print(countries)\n",
    "bubble_sort(countries)\n",
    "print(countries)"
   ]
  },
  {
   "cell_type": "code",
   "execution_count": 26,
   "metadata": {},
   "outputs": [
    {
     "data": {
      "text/plain": [
       "['Illinois', 'Indiana', 'Michigan', 'Minnesota', 'Missouri', 'Wisconsin']"
      ]
     },
     "execution_count": 26,
     "metadata": {},
     "output_type": "execute_result"
    }
   ],
   "source": [
    "bubble_sort(some_list)"
   ]
  },
  {
   "cell_type": "markdown",
   "metadata": {},
   "source": [
    "##### Insertion Sort\n",
    "\n",
    "Worst Case: O(n^2) time - O(1)space"
   ]
  },
  {
   "cell_type": "code",
   "execution_count": 27,
   "metadata": {},
   "outputs": [
    {
     "name": "stdout",
     "output_type": "stream",
     "text": [
      "[42, 29, 31, 15, 3, 6, 35, 14, 46, 48]\n"
     ]
    }
   ],
   "source": [
    "list_to_sort = [randint(1, 50) for _ in range(10)]\n",
    "print(list_to_sort)"
   ]
  },
  {
   "cell_type": "code",
   "execution_count": 28,
   "metadata": {},
   "outputs": [],
   "source": [
    "def insertion_sort(lst):\n",
    "    # Loop over the unordered section (starting at 1 because index-0 is \"sorted\")\n",
    "    for i in range(1, len(lst)):\n",
    "        pointer = i\n",
    "        # While we are not at the front of the list and the element to the left is great than our element\n",
    "        while pointer > 0 and lst[pointer-1] > lst[pointer]:\n",
    "            # Swap the element with the element to its left\n",
    "            lst[pointer], lst[pointer-1] = lst[pointer-1], lst[pointer]\n",
    "            # Move the pointer to the left one index to match our newly swapped element\n",
    "            pointer -= 1\n",
    "    # Once we've looped over the unordered section, the list is ordered and can be returned\n",
    "    return lst"
   ]
  },
  {
   "cell_type": "code",
   "execution_count": 29,
   "metadata": {},
   "outputs": [
    {
     "data": {
      "text/plain": [
       "[3, 6, 14, 15, 29, 31, 35, 42, 46, 48]"
      ]
     },
     "execution_count": 29,
     "metadata": {},
     "output_type": "execute_result"
    }
   ],
   "source": [
    "insertion_sort(list_to_sort)"
   ]
  },
  {
   "cell_type": "code",
   "execution_count": 30,
   "metadata": {},
   "outputs": [
    {
     "name": "stdout",
     "output_type": "stream",
     "text": [
      "[3, 6, 14, 15, 29, 31, 35, 42, 46, 48]\n"
     ]
    }
   ],
   "source": [
    "print(list_to_sort)"
   ]
  },
  {
   "cell_type": "code",
   "execution_count": 31,
   "metadata": {},
   "outputs": [
    {
     "name": "stdout",
     "output_type": "stream",
     "text": [
      "['Angels', 'Dodgers', 'Marlins', 'Red Sox', 'Tigers', 'White Sox', 'Yankees']\n"
     ]
    }
   ],
   "source": [
    "mlb_teams = ['White Sox', 'Red Sox', 'Yankees', 'Angels', 'Dodgers', 'Marlins', 'Tigers']\n",
    "\n",
    "insertion_sort(mlb_teams)\n",
    "\n",
    "print(mlb_teams)"
   ]
  },
  {
   "cell_type": "markdown",
   "metadata": {},
   "source": [
    "## Merge Sort"
   ]
  },
  {
   "cell_type": "markdown",
   "metadata": {},
   "source": [
    "#### How it Works"
   ]
  },
  {
   "cell_type": "code",
   "execution_count": 32,
   "metadata": {},
   "outputs": [
    {
     "name": "stdout",
     "output_type": "stream",
     "text": [
      "[14, 13, 33, 49, 9, 22, 33, 12]\n"
     ]
    }
   ],
   "source": [
    "list_to_sort = [randint(1, 50) for _ in range(8)]\n",
    "print(list_to_sort)"
   ]
  },
  {
   "cell_type": "code",
   "execution_count": 36,
   "metadata": {},
   "outputs": [],
   "source": [
    "def merge_sort(lst):\n",
    "    # Check if our list can be split\n",
    "    if len(lst) > 1:\n",
    "        # Find the midway point\n",
    "        midway = len(lst) // 2\n",
    "        # Split the list into a left and right half\n",
    "#         print('Splitting...', lst)\n",
    "        left_half = lst[:midway]\n",
    "        right_half = lst[midway:]\n",
    "        \n",
    "        # Call merge_sort on left half \n",
    "#         print('Call merge_sort on left_half', left_half)\n",
    "        merge_sort(left_half)\n",
    "#         print('Call merge_sort on right_half', right_half)\n",
    "        # Call the merge_sort on right half\n",
    "        merge_sort(right_half)\n",
    "        \n",
    "        # Merge the left and right half lists back into the original list\n",
    "#         print(f\"Merging... {left_half} with {right_half}\")\n",
    "        \n",
    "        # index pointers for the three lists\n",
    "        l = 0 # pointer for left half\n",
    "        r = 0 # pointer for right half\n",
    "        m = 0 # pointer for main list\n",
    "        \n",
    "        # While the left and right pointers are still pointing at valid indices\n",
    "        while l < len(left_half) and r < len(right_half):\n",
    "            # if the element at the left half pointer is less than the right half pointer\n",
    "            if left_half[l] < right_half[r]:\n",
    "                # Place the left half value in the original list\n",
    "                lst[m] = left_half[l]\n",
    "                # Move our left half pointer right one spot\n",
    "                l += 1\n",
    "            else:\n",
    "                # Place the right half value in the original list\n",
    "                lst[m] = right_half[r]\n",
    "                # Move our right half pointer right one spot\n",
    "                r += 1\n",
    "            # Either way, always increase the main pointer one spot\n",
    "            m += 1\n",
    "            \n",
    "        # When one of the half finishes (can be right or left first), copy the rest of the other half into the original\n",
    "        while l < len(left_half):\n",
    "            lst[m] = left_half[l]\n",
    "            l += 1\n",
    "            m += 1\n",
    "        while r < len(right_half):\n",
    "            lst[m] = right_half[r]\n",
    "            r += 1\n",
    "            m += 1\n",
    "#     print('Ready For Merge:', lst)\n",
    "    return lst\n",
    "    "
   ]
  },
  {
   "cell_type": "code",
   "execution_count": 34,
   "metadata": {},
   "outputs": [
    {
     "name": "stdout",
     "output_type": "stream",
     "text": [
      "[14, 13, 33, 49, 9, 22, 33, 12]\n"
     ]
    }
   ],
   "source": [
    "print(list_to_sort)"
   ]
  },
  {
   "cell_type": "code",
   "execution_count": 35,
   "metadata": {},
   "outputs": [
    {
     "name": "stdout",
     "output_type": "stream",
     "text": [
      "Splitting... [14, 13, 33, 49, 9, 22, 33, 12]\n",
      "Call merge_sort on left_half [14, 13, 33, 49]\n",
      "Splitting... [14, 13, 33, 49]\n",
      "Call merge_sort on left_half [14, 13]\n",
      "Splitting... [14, 13]\n",
      "Call merge_sort on left_half [14]\n",
      "Ready For Merge: [14]\n",
      "Call merge_sort on right_half [13]\n",
      "Ready For Merge: [13]\n",
      "Merging... [14] with [13]\n",
      "Ready For Merge: [13, 14]\n",
      "Call merge_sort on right_half [33, 49]\n",
      "Splitting... [33, 49]\n",
      "Call merge_sort on left_half [33]\n",
      "Ready For Merge: [33]\n",
      "Call merge_sort on right_half [49]\n",
      "Ready For Merge: [49]\n",
      "Merging... [33] with [49]\n",
      "Ready For Merge: [33, 49]\n",
      "Merging... [13, 14] with [33, 49]\n",
      "Ready For Merge: [13, 14, 33, 49]\n",
      "Call merge_sort on right_half [9, 22, 33, 12]\n",
      "Splitting... [9, 22, 33, 12]\n",
      "Call merge_sort on left_half [9, 22]\n",
      "Splitting... [9, 22]\n",
      "Call merge_sort on left_half [9]\n",
      "Ready For Merge: [9]\n",
      "Call merge_sort on right_half [22]\n",
      "Ready For Merge: [22]\n",
      "Merging... [9] with [22]\n",
      "Ready For Merge: [9, 22]\n",
      "Call merge_sort on right_half [33, 12]\n",
      "Splitting... [33, 12]\n",
      "Call merge_sort on left_half [33]\n",
      "Ready For Merge: [33]\n",
      "Call merge_sort on right_half [12]\n",
      "Ready For Merge: [12]\n",
      "Merging... [33] with [12]\n",
      "Ready For Merge: [12, 33]\n",
      "Merging... [9, 22] with [12, 33]\n",
      "Ready For Merge: [9, 12, 22, 33]\n",
      "Merging... [13, 14, 33, 49] with [9, 12, 22, 33]\n",
      "Ready For Merge: [9, 12, 13, 14, 22, 33, 33, 49]\n"
     ]
    },
    {
     "data": {
      "text/plain": [
       "[9, 12, 13, 14, 22, 33, 33, 49]"
      ]
     },
     "execution_count": 35,
     "metadata": {},
     "output_type": "execute_result"
    }
   ],
   "source": [
    "merge_sort(list_to_sort)"
   ]
  },
  {
   "cell_type": "markdown",
   "metadata": {},
   "source": [
    "# Binary Search\n",
    "\n",
    "The Binary Search algorithm works by finding the number in the middle of a given array and comparing it to the target. **Given that the array is sorted**\n",
    "\n",
    "* The worst case run time for this algorithm is `O(log(n))`"
   ]
  },
  {
   "cell_type": "code",
   "execution_count": 54,
   "metadata": {},
   "outputs": [
    {
     "name": "stdout",
     "output_type": "stream",
     "text": [
      "[5, 21, 22, 23, 27, 31, 32, 43, 48, 51, 53, 55, 59, 75, 78, 83, 84, 85, 87, 91]\n"
     ]
    }
   ],
   "source": [
    "list_to_search = [randint(1, 100) for _ in range(20)]\n",
    "merge_sort(list_to_search)\n",
    "print(list_to_search)"
   ]
  },
  {
   "cell_type": "code",
   "execution_count": 57,
   "metadata": {},
   "outputs": [],
   "source": [
    "def binary_search(lst, target):\n",
    "    # Set a low and high at the far ends of the list\n",
    "    low = 0\n",
    "    high = len(lst) - 1\n",
    "    num_checks = 0\n",
    "    # Continue searching while the low value is less than or equal to the high\n",
    "    while low <= high:\n",
    "        # Find the midway point\n",
    "        mid = (low + high) // 2\n",
    "        num_checks += 1\n",
    "        # If the middle is equal to the target\n",
    "        if target == lst[mid]:\n",
    "            # Awesome, we have found what we are looking for!\n",
    "            return f\"The index for {target} is {mid} and it took {num_checks} checks\"\n",
    "        # If the target is greater than the mid point\n",
    "        elif target > lst[mid]:\n",
    "            # Reset the low to one higher than the mid\n",
    "            low = mid + 1\n",
    "        # If the target is less than the mid\n",
    "        else:\n",
    "            # Reset te high to one less than the mid\n",
    "            high = mid - 1\n",
    "    # If the low ever gets higher than the high, we know the target is not in the list\n",
    "    return -1\n"
   ]
  },
  {
   "cell_type": "code",
   "execution_count": 58,
   "metadata": {},
   "outputs": [
    {
     "data": {
      "text/plain": [
       "'The index for 43 is 7 and it took 4 checks'"
      ]
     },
     "execution_count": 58,
     "metadata": {},
     "output_type": "execute_result"
    }
   ],
   "source": [
    "binary_search(list_to_search, 43)"
   ]
  },
  {
   "cell_type": "code",
   "execution_count": 61,
   "metadata": {},
   "outputs": [
    {
     "data": {
      "text/plain": [
       "'The index for 5 is 0 and it took 4 checks'"
      ]
     },
     "execution_count": 61,
     "metadata": {},
     "output_type": "execute_result"
    }
   ],
   "source": [
    "binary_search(list_to_search, 5)"
   ]
  },
  {
   "cell_type": "code",
   "execution_count": 63,
   "metadata": {
    "scrolled": false
   },
   "outputs": [],
   "source": [
    "list_of_fives = [x for x in range(0, 20000, 5)]\n",
    "# print(list_of_fives)"
   ]
  },
  {
   "cell_type": "code",
   "execution_count": 66,
   "metadata": {},
   "outputs": [
    {
     "data": {
      "text/plain": [
       "'The index for 18300 is 3660 and it took 11 checks'"
      ]
     },
     "execution_count": 66,
     "metadata": {},
     "output_type": "execute_result"
    }
   ],
   "source": [
    "binary_search(list_of_fives, 18300)"
   ]
  },
  {
   "cell_type": "markdown",
   "metadata": {},
   "source": [
    "# Exercises"
   ]
  },
  {
   "cell_type": "markdown",
   "metadata": {},
   "source": [
    "### Exercise #1 <br>\n",
    "<p>Write a function that takes a list of integers and returns the median value. *Can assume that the list of integers is sorted in ascending value*.</p>"
   ]
  },
  {
   "cell_type": "code",
   "execution_count": 75,
   "metadata": {},
   "outputs": [],
   "source": [
    "def median(lst):\n",
    "    # Check if the length of the list is even or odd\n",
    "    if len(lst) % 2 == 1:\n",
    "        # Find the middle of the list\n",
    "        middle_index = len(lst) // 2\n",
    "        # Return the middle element\n",
    "        return lst[middle_index]\n",
    "    else:\n",
    "        # Find the two middles\n",
    "        low_mid = len(lst) // 2 - 1\n",
    "        high_mid = len(lst) // 2\n",
    "        # Find the average of the two middle numbers\n",
    "        return (lst[low_mid] + lst[high_mid]) / 2"
   ]
  },
  {
   "cell_type": "code",
   "execution_count": 78,
   "metadata": {},
   "outputs": [
    {
     "data": {
      "text/plain": [
       "14.0"
      ]
     },
     "execution_count": 78,
     "metadata": {},
     "output_type": "execute_result"
    }
   ],
   "source": [
    "median([2, 3, 4, 7, 8, 9, 10, 13, 15, 17, 19, 24, 27, 29, 34, 47])"
   ]
  },
  {
   "cell_type": "markdown",
   "metadata": {},
   "source": [
    "### Exercise #2 <br>\n",
    "<p>Create a function that counts how many distinct words are in the string below, then outputs a dictionary with the words as the key and the value as the amount of times that word appears in the string.</p>\n",
    "Example Output:<code>{'in': 1, 'computing': 1, 'a': 5, ...}</code>"
   ]
  },
  {
   "cell_type": "code",
   "execution_count": 88,
   "metadata": {},
   "outputs": [],
   "source": [
    "a_text = 'In computing, a hash table hash map is a data structure in computing which implements an associative array abstract data type, a structure that can map keys to values. A hash table uses a hash function to compute an index into an array of buckets or slots from which the desired value can be found'\n",
    "\n",
    "def count_words(string):\n",
    "    # Split the string into a list of words\n",
    "    words = string.lower().split()\n",
    "    # Create a dictionary to keep track of seen words and how many times we've seen them\n",
    "    word_count = {}\n",
    "    # Look at each word in the list of words\n",
    "    for word in words:\n",
    "        word = word.strip('?,.!')\n",
    "        # If we have not seen the word yet\n",
    "        if word not in word_count:\n",
    "            # Add the word to the dictionary with a value of 1\n",
    "            word_count[word] = 1\n",
    "        # If we have seen the word already\n",
    "        else:\n",
    "            # Increase the value associated with that word by 1\n",
    "            word_count[word] += 1\n",
    "    # Once we've looked at every word, return the dictionary\n",
    "    return word_count\n"
   ]
  },
  {
   "cell_type": "code",
   "execution_count": 90,
   "metadata": {},
   "outputs": [
    {
     "data": {
      "text/plain": [
       "{'in': 2,\n",
       " 'computing': 2,\n",
       " 'a': 5,\n",
       " 'hash': 4,\n",
       " 'table': 2,\n",
       " 'map': 2,\n",
       " 'is': 1,\n",
       " 'data': 2,\n",
       " 'structure': 2,\n",
       " 'which': 2,\n",
       " 'implements': 1,\n",
       " 'an': 3,\n",
       " 'associative': 1,\n",
       " 'array': 2,\n",
       " 'abstract': 1,\n",
       " 'type': 1,\n",
       " 'that': 1,\n",
       " 'can': 2,\n",
       " 'keys': 1,\n",
       " 'to': 2,\n",
       " 'values': 1,\n",
       " 'uses': 1,\n",
       " 'function': 1,\n",
       " 'compute': 1,\n",
       " 'index': 1,\n",
       " 'into': 1,\n",
       " 'of': 1,\n",
       " 'buckets': 1,\n",
       " 'or': 1,\n",
       " 'slots': 1,\n",
       " 'from': 1,\n",
       " 'the': 1,\n",
       " 'desired': 1,\n",
       " 'value': 1,\n",
       " 'be': 1,\n",
       " 'found': 1}"
      ]
     },
     "execution_count": 90,
     "metadata": {},
     "output_type": "execute_result"
    }
   ],
   "source": [
    "count_words(a_text)"
   ]
  },
  {
   "cell_type": "code",
   "execution_count": 91,
   "metadata": {},
   "outputs": [
    {
     "data": {
      "text/plain": [
       "{'hello': 1,\n",
       " 'how': 1,\n",
       " 'are': 2,\n",
       " 'you': 3,\n",
       " 'today': 2,\n",
       " 'sure': 1,\n",
       " 'want': 1,\n",
       " 'to': 1,\n",
       " 'do': 1,\n",
       " 'that': 1}"
      ]
     },
     "execution_count": 91,
     "metadata": {},
     "output_type": "execute_result"
    }
   ],
   "source": [
    "greeting = \"hello how are you today? are you sure you want to do that today\"\n",
    "\n",
    "count_words(greeting)"
   ]
  },
  {
   "cell_type": "markdown",
   "metadata": {},
   "source": [
    "hello: 1\n",
    "how: 1\n",
    "are: 2\n",
    "you: 3\n",
    "today: 2\n",
    "sure: 1\n",
    "want: 1\n",
    "to: 1\n",
    "do: 1\n",
    "that: 1"
   ]
  },
  {
   "cell_type": "code",
   "execution_count": 96,
   "metadata": {},
   "outputs": [],
   "source": [
    "import re\n",
    "\n",
    "def count_words2(string):\n",
    "    # Split the string into a list of words\n",
    "    words = re.findall('\\w+', string.lower())\n",
    "    print(words)\n",
    "    # Create a dictionary to keep track of seen words and how many times we've seen them\n",
    "    word_count = {}\n",
    "    # Look at each word in the list of words\n",
    "    for word in words:\n",
    "        word = word.strip('?,.!')\n",
    "        # If we have not seen the word yet\n",
    "        if word not in word_count:\n",
    "            # Add the word to the dictionary with a value of 1\n",
    "            word_count[word] = 1\n",
    "        # If we have seen the word already\n",
    "        else:\n",
    "            # Increase the value associated with that word by 1\n",
    "            word_count[word] += 1\n",
    "    # Once we've looked at every word, return the dictionary\n",
    "    return word_count"
   ]
  },
  {
   "cell_type": "code",
   "execution_count": 97,
   "metadata": {
    "scrolled": true
   },
   "outputs": [
    {
     "name": "stdout",
     "output_type": "stream",
     "text": [
      "['in', 'computing', 'a', 'hash', 'table', 'hash', 'map', 'is', 'a', 'data', 'structure', 'in', 'computing', 'which', 'implements', 'an', 'associative', 'array', 'abstract', 'data', 'type', 'a', 'structure', 'that', 'can', 'map', 'keys', 'to', 'values', 'a', 'hash', 'table', 'uses', 'a', 'hash', 'function', 'to', 'compute', 'an', 'index', 'into', 'an', 'array', 'of', 'buckets', 'or', 'slots', 'from', 'which', 'the', 'desired', 'value', 'can', 'be', 'found']\n"
     ]
    },
    {
     "data": {
      "text/plain": [
       "{'in': 2,\n",
       " 'computing': 2,\n",
       " 'a': 5,\n",
       " 'hash': 4,\n",
       " 'table': 2,\n",
       " 'map': 2,\n",
       " 'is': 1,\n",
       " 'data': 2,\n",
       " 'structure': 2,\n",
       " 'which': 2,\n",
       " 'implements': 1,\n",
       " 'an': 3,\n",
       " 'associative': 1,\n",
       " 'array': 2,\n",
       " 'abstract': 1,\n",
       " 'type': 1,\n",
       " 'that': 1,\n",
       " 'can': 2,\n",
       " 'keys': 1,\n",
       " 'to': 2,\n",
       " 'values': 1,\n",
       " 'uses': 1,\n",
       " 'function': 1,\n",
       " 'compute': 1,\n",
       " 'index': 1,\n",
       " 'into': 1,\n",
       " 'of': 1,\n",
       " 'buckets': 1,\n",
       " 'or': 1,\n",
       " 'slots': 1,\n",
       " 'from': 1,\n",
       " 'the': 1,\n",
       " 'desired': 1,\n",
       " 'value': 1,\n",
       " 'be': 1,\n",
       " 'found': 1}"
      ]
     },
     "execution_count": 97,
     "metadata": {},
     "output_type": "execute_result"
    }
   ],
   "source": [
    "count_words2(a_text)"
   ]
  },
  {
   "cell_type": "code",
   "execution_count": null,
   "metadata": {},
   "outputs": [],
   "source": []
  },
  {
   "cell_type": "markdown",
   "metadata": {},
   "source": [
    "## Exercise #3\n",
    "\n",
    "Write a function implementing a Linear Search Algorithm. A linear search is a method for finding an element within a list. It sequentially checks each element of the list until a match is found or the whole list has been searched. If you do not find a match, return -1. *You can assume the list is sorted*"
   ]
  },
  {
   "cell_type": "code",
   "execution_count": 67,
   "metadata": {},
   "outputs": [],
   "source": [
    "def linear_search(lst, target):\n",
    "    num_checks = 0\n",
    "    # Starting at index 1 and going to the end of the list\n",
    "    for idx in range(len(lst)):\n",
    "        num_checks += 1\n",
    "        # Check if the list at index is equal to the target\n",
    "        if lst[idx] == target:\n",
    "            return f\"The index for {target} is {idx} and it took {num_checks} checks\"\n",
    "        # If the list at index is greater than our target\n",
    "        if lst[idx] > target:\n",
    "            # We know our target is not in the list because we would have seen it by now\n",
    "            return -1\n",
    "    # If we reach the end of the list without returning, we know the target is not in the list\n",
    "    return -1"
   ]
  },
  {
   "cell_type": "code",
   "execution_count": 68,
   "metadata": {},
   "outputs": [
    {
     "data": {
      "text/plain": [
       "'The index for 43 is 7 and it took 8 checks'"
      ]
     },
     "execution_count": 68,
     "metadata": {},
     "output_type": "execute_result"
    }
   ],
   "source": [
    "linear_search(list_to_search, 43)"
   ]
  },
  {
   "cell_type": "code",
   "execution_count": 69,
   "metadata": {},
   "outputs": [
    {
     "data": {
      "text/plain": [
       "'The index for 84 is 16 and it took 17 checks'"
      ]
     },
     "execution_count": 69,
     "metadata": {},
     "output_type": "execute_result"
    }
   ],
   "source": [
    "linear_search(list_to_search, 84)"
   ]
  },
  {
   "cell_type": "code",
   "execution_count": 70,
   "metadata": {},
   "outputs": [
    {
     "data": {
      "text/plain": [
       "'The index for 6835 is 1367 and it took 12 checks'"
      ]
     },
     "execution_count": 70,
     "metadata": {},
     "output_type": "execute_result"
    }
   ],
   "source": [
    "binary_search(list_of_fives, 6835)"
   ]
  },
  {
   "cell_type": "code",
   "execution_count": 71,
   "metadata": {},
   "outputs": [
    {
     "data": {
      "text/plain": [
       "'The index for 6835 is 1367 and it took 1368 checks'"
      ]
     },
     "execution_count": 71,
     "metadata": {},
     "output_type": "execute_result"
    }
   ],
   "source": [
    "linear_search(list_of_fives, 6835)"
   ]
  },
  {
   "cell_type": "code",
   "execution_count": 72,
   "metadata": {},
   "outputs": [
    {
     "data": {
      "text/plain": [
       "-1"
      ]
     },
     "execution_count": 72,
     "metadata": {},
     "output_type": "execute_result"
    }
   ],
   "source": [
    "linear_search(list_to_search, 50)"
   ]
  }
 ],
 "metadata": {
  "kernelspec": {
   "display_name": "Python 3 (ipykernel)",
   "language": "python",
   "name": "python3"
  },
  "language_info": {
   "codemirror_mode": {
    "name": "ipython",
    "version": 3
   },
   "file_extension": ".py",
   "mimetype": "text/x-python",
   "name": "python",
   "nbconvert_exporter": "python",
   "pygments_lexer": "ipython3",
   "version": "3.10.9"
  }
 },
 "nbformat": 4,
 "nbformat_minor": 2
}
